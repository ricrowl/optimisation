{
 "cells": [
  {
   "attachments": {},
   "cell_type": "markdown",
   "metadata": {},
   "source": [
    "# capacitated vehicle routing problem with time-windows"
   ]
  },
  {
   "cell_type": "code",
   "execution_count": null,
   "metadata": {},
   "outputs": [],
   "source": [
    "from ortools.constraint_solver import pywrapcp\n",
    "from ortools.constraint_solver import routing_enums_pb2\n",
    "\n",
    "import pandas as pd\n",
    "from itertools import permutations\n",
    "import matplotlib.pyplot as plt\n",
    "from matplotlib.collections import LineCollection"
   ]
  },
  {
   "cell_type": "code",
   "execution_count": null,
   "metadata": {},
   "outputs": [],
   "source": [
    "METRICS_FACTOR = 1000\n",
    "VEHICLE_NUM = 3\n",
    "VEHICLE_CAPACITY = 50"
   ]
  },
  {
   "attachments": {},
   "cell_type": "markdown",
   "metadata": {},
   "source": [
    "## Define DATA"
   ]
  },
  {
   "cell_type": "code",
   "execution_count": null,
   "metadata": {},
   "outputs": [],
   "source": [
    "# Make data\n",
    "df = pd.DataFrame()\n",
    "df['no'] = range(8)\n",
    "df['coord'] = [(0,0), (1,1), (2,1), (1,0), (-1,-1), (-2,-1), (-1,0), (0,-1)]\n",
    "df['x'] = df['coord'].apply(lambda x: x[0])\n",
    "df['y'] = df['coord'].apply(lambda x: x[1])\n",
    "df['demand'] = [0, 10, 10, 10, 10, 10, 10, 45]\n",
    "df['time_window'] = [(0.0,100.0), (1.0,1.5), (2.0,3.5), (6.0,7.0), (0.0,10.0), (2.0,3.0), (0.0,10.0), (0,100.0)]\n",
    "df['start_time'] = df['time_window'].apply(lambda x: x[0])\n",
    "df['end_time'] = df['time_window'].apply(lambda x: x[1])\n",
    "df['service_time'] = [0, 1, 2 ,3 , 2, 2, 2, 1]\n",
    "df = df.drop(['coord', 'time_window'], axis=1)\n",
    "df = df.sort_values('no')\n",
    "df"
   ]
  },
  {
   "cell_type": "code",
   "execution_count": null,
   "metadata": {},
   "outputs": [],
   "source": [
    "# Plot data\n",
    "fig, ax = plt.subplots()\n",
    "ax = df.plot.scatter(x='x', y='y', ax=ax, grid=True)\n",
    "for i in df.index:\n",
    "    no, x, y, d, st, en = df.loc[\n",
    "        i, ['no', 'x', 'y', 'demand', 'start_time', 'end_time']]\n",
    "    no, d = int(no), int(d)\n",
    "    text = f'{no}\\nd:{d}\\ntw:{st}-{en}'\n",
    "    ax.annotate(\n",
    "        text, \n",
    "        xy=(x,y), \n",
    "        horizontalalignment='left', \n",
    "        verticalalignment='top', \n",
    "        color='C1', \n",
    "        alpha=0.5)\n",
    "rng = (df[['x', 'y']].values.min(), df[['x', 'y']].values.max())\n",
    "offset = (rng[1]-rng[0])*0.1\n",
    "rng = (rng[0]-offset, rng[1]+offset)\n",
    "ax.set_xlim(rng)\n",
    "ax.set_ylim(rng)\n",
    "fig.tight_layout()"
   ]
  },
  {
   "attachments": {},
   "cell_type": "markdown",
   "metadata": {},
   "source": [
    "## Make Model"
   ]
  },
  {
   "cell_type": "code",
   "execution_count": null,
   "metadata": {},
   "outputs": [],
   "source": [
    "# Make data for model\n",
    "\n",
    "data = {}\n",
    "# distance_matrix\n",
    "dists = pd.DataFrame(list(permutations(df['no'], 2)), columns=['from', 'to'])\n",
    "coord_map = df.set_index('no')[['x', 'y']]\n",
    "dists['diff_x'] = coord_map.loc[dists['from'], 'x'].values - coord_map.loc[dists['to'], 'x'].values\n",
    "dists['diff_y'] = coord_map.loc[dists['from'], 'y'].values - coord_map.loc[dists['to'], 'y'].values\n",
    "dists['distance'] = ((dists['diff_x']**2) + (dists['diff_y']**2))**(1/2)\n",
    "data['distance_matrix'] = dists.pivot_table(index=['from'], columns=['to'], values=['distance'])\n",
    "data['distance_matrix'] = data['distance_matrix'].fillna(0)\n",
    "data['distance_matrix'] = (METRICS_FACTOR*data['distance_matrix']).astype(int)\n",
    "data['distance_matrix'] = data['distance_matrix'].values.tolist()\n",
    "# time_matrix\n",
    "data['time_matrix'] = data['distance_matrix']\n",
    "# time_windows\n",
    "data['time_windows'] = (METRICS_FACTOR*df[['start_time', 'end_time']]).astype(int)\n",
    "data['time_windows'] = data['time_windows'].values.tolist()\n",
    "# demands\n",
    "data['demands'] = df['demand'].values.tolist()\n",
    "# service_time\n",
    "data['service_time'] = (METRICS_FACTOR*df['service_time']).astype(int)\n",
    "data['service_time'] = data['service_time'].values.tolist()\n",
    "# num_vehicles\n",
    "data['num_vehicles'] = VEHICLE_NUM\n",
    "# vehicle_capacities\n",
    "data['vehicle_capacities'] = [VEHICLE_CAPACITY]*VEHICLE_NUM\n",
    "# depot\n",
    "data['depot'] = 0"
   ]
  },
  {
   "cell_type": "code",
   "execution_count": null,
   "metadata": {},
   "outputs": [],
   "source": [
    "# Set model\n",
    "manager = pywrapcp.RoutingIndexManager(len(data['distance_matrix']),\n",
    "                                       data['num_vehicles'], data['depot'])\n",
    "routing = pywrapcp.RoutingModel(manager)"
   ]
  },
  {
   "cell_type": "code",
   "execution_count": null,
   "metadata": {},
   "outputs": [],
   "source": [
    "# Set cost of total distance\n",
    "def distance_callback(from_index, to_index):\n",
    "    \"\"\"Returns the distance between the two nodes.\"\"\"\n",
    "    from_node = manager.IndexToNode(from_index)\n",
    "    to_node = manager.IndexToNode(to_index)\n",
    "    return data['distance_matrix'][from_node][to_node]\n",
    "\n",
    "transit_callback_index = routing.RegisterTransitCallback(distance_callback)\n",
    "routing.SetArcCostEvaluatorOfAllVehicles(transit_callback_index)"
   ]
  },
  {
   "cell_type": "code",
   "execution_count": null,
   "metadata": {},
   "outputs": [],
   "source": [
    "# Set constraint of capacity\n",
    "def demand_callback(from_index):\n",
    "    \"\"\"Returns the demand of the node.\"\"\"\n",
    "    from_node = manager.IndexToNode(from_index)\n",
    "    return data['demands'][from_node]\n",
    "\n",
    "demand_callback_index = routing.RegisterUnaryTransitCallback(\n",
    "    demand_callback)\n",
    "routing.AddDimensionWithVehicleCapacity(\n",
    "    demand_callback_index,\n",
    "    0,  # null capacity slack\n",
    "    data['vehicle_capacities'],  # vehicle maximum capacities\n",
    "    True,  # start cumul to zero\n",
    "    'Capacity')"
   ]
  },
  {
   "cell_type": "code",
   "execution_count": null,
   "metadata": {},
   "outputs": [],
   "source": [
    "# Set constraint of time window\n",
    "def time_callback(from_index, to_index):\n",
    "    \"\"\"Returns the travel time between the two nodes + service time of from_node.\"\"\"\n",
    "    from_node = manager.IndexToNode(from_index)\n",
    "    to_node = manager.IndexToNode(to_index)\n",
    "    return data['time_matrix'][from_node][to_node] + data['service_time'][from_node]\n",
    "\n",
    "dim_name = 'Time'\n",
    "time_callback_index = routing.RegisterTransitCallback(time_callback)\n",
    "routing.AddDimension(\n",
    "    time_callback_index,\n",
    "    max(sum(data['time_windows'], [])),  # allow waiting time\n",
    "    max(sum(data['time_windows'], [])),  # maximum time per vehicle\n",
    "    False,  # Don't force start cumul to zero.\n",
    "    dim_name)\n",
    "time_dimension = routing.GetDimensionOrDie(dim_name)\n",
    "# add time window constraints for each location except depot.\n",
    "for location_idx, time_window in enumerate(data['time_windows']):\n",
    "    if location_idx == data['depot']:\n",
    "        continue\n",
    "    index = manager.NodeToIndex(location_idx)\n",
    "    time_dimension.CumulVar(index).SetRange(time_window[0], time_window[1])\n",
    "# add time window constraints for each vehicle start node.\n",
    "depot_idx = data['depot']\n",
    "for vehicle_id in range(data['num_vehicles']):\n",
    "    index = routing.Start(vehicle_id)\n",
    "    time_dimension.CumulVar(index).SetRange(\n",
    "        data['time_windows'][depot_idx][0],\n",
    "        data['time_windows'][depot_idx][1])\n",
    "for i in range(data['num_vehicles']):\n",
    "    routing.AddVariableMinimizedByFinalizer(\n",
    "        time_dimension.CumulVar(routing.Start(i)))\n",
    "    routing.AddVariableMinimizedByFinalizer(\n",
    "        time_dimension.CumulVar(routing.End(i)))"
   ]
  },
  {
   "cell_type": "markdown",
   "metadata": {},
   "source": [
    "### Main function"
   ]
  },
  {
   "cell_type": "code",
   "execution_count": null,
   "metadata": {},
   "outputs": [],
   "source": [
    "# Setting first solution heuristic.\n",
    "search_parameters = pywrapcp.DefaultRoutingSearchParameters()\n",
    "search_parameters.first_solution_strategy = (\n",
    "    routing_enums_pb2.FirstSolutionStrategy.PATH_CHEAPEST_ARC)"
   ]
  },
  {
   "cell_type": "code",
   "execution_count": null,
   "metadata": {},
   "outputs": [],
   "source": [
    "# Solve the problem.\n",
    "solution = routing.SolveWithParameters(search_parameters)"
   ]
  },
  {
   "attachments": {},
   "cell_type": "markdown",
   "metadata": {},
   "source": [
    "### Visualization"
   ]
  },
  {
   "cell_type": "code",
   "execution_count": null,
   "metadata": {},
   "outputs": [],
   "source": [
    "# Display the routes.\n",
    "\n",
    "def get_results(solution, routing, manager):\n",
    "    \"\"\"Get vehicle routes from a solution and store them in an array.\"\"\"\n",
    "    results = {}\n",
    "    capa_dim = routing.GetDimensionOrDie('Capacity')\n",
    "    time_dim = routing.GetDimensionOrDie('Time')\n",
    "    for vehicle_id in range(routing.vehicles()):\n",
    "        index = routing.Start(vehicle_id)\n",
    "        result = {\n",
    "            'route': [manager.IndexToNode(index)], \n",
    "            'cost': [routing.GetFixedCostOfVehicle(vehicle_id)],\n",
    "            'capa': [0],                                  \n",
    "            'time': [0]\n",
    "            }\n",
    "        while not routing.IsEnd(index):\n",
    "            pre_index = index\n",
    "            index = solution.Value(routing.NextVar(index))\n",
    "            result['route'].append(manager.IndexToNode(index))\n",
    "            result['cost'].append(\n",
    "                routing.GetArcCostForVehicle(pre_index, index, vehicle_id))\n",
    "            result['capa'].append(\n",
    "                capa_dim.GetTransitValue(pre_index, index, vehicle_id))          \n",
    "            result['time'].append(\n",
    "                time_dim.GetTransitValue(pre_index, index, vehicle_id))\n",
    "        result['cost'] = pd.Series(result['cost']).cumsum().to_list()\n",
    "        result['capa'] = pd.Series(result['capa']).cumsum().to_list()\n",
    "        result['time'] = pd.Series(result['time']).cumsum().to_list()\n",
    "        results[vehicle_id] = result\n",
    "    return results\n",
    "\n",
    "solution_results = get_results(solution, routing, manager)\n",
    "print('Result of Route: No.(cost,capacity,time)')\n",
    "for i, res in solution_results.items():\n",
    "  route = res['route']\n",
    "  costs = res['cost']\n",
    "  capas = res['capa']\n",
    "  times = res['time']\n",
    "  text = [f'{l}({c},{d}/{VEHICLE_CAPACITY},{t})' \n",
    "          for l, c, d, t in zip(route, costs, capas, times)]\n",
    "  text = ' -> '.join(text)\n",
    "  print(f'Vehicle {i}: {text}')\n",
    "print('Objective value:', solution.ObjectiveValue())"
   ]
  },
  {
   "cell_type": "code",
   "execution_count": null,
   "metadata": {},
   "outputs": [],
   "source": [
    "# Plot\n",
    "\n",
    "# add point\n",
    "fig, ax = plt.subplots()\n",
    "ax = df.plot.scatter(x='x', y='y', ax=ax, grid=True)\n",
    "for i in df.index:\n",
    "    no, x, y, d, st, en = df.loc[\n",
    "        i, ['no', 'x', 'y', 'demand', 'start_time', 'end_time']]\n",
    "    no, d = int(no), int(d)\n",
    "    text = f'{no}\\nd:{d}\\ntw:{st}-{en}'\n",
    "    ax.annotate(\n",
    "        text, \n",
    "        xy=(x,y), \n",
    "        horizontalalignment='left', \n",
    "        verticalalignment='top', \n",
    "        color='C1', \n",
    "        alpha=0.5)\n",
    "rng = (df[['x', 'y']].values.min(), df[['x', 'y']].values.max())\n",
    "offset = (rng[1]-rng[0])*0.1\n",
    "rng = (rng[0]-offset, rng[1]+offset)\n",
    "ax.set_xlim(rng)\n",
    "ax.set_ylim(rng)\n",
    "\n",
    "# add route\n",
    "cmap = plt.get_cmap('jet', len(solution_results))\n",
    "cood_map = df.set_index('no')[['x', 'y']]\n",
    "for i, res in solution_results.items():\n",
    "    route = res['route']\n",
    "    froms = cood_map.loc[route].values[:-1]\n",
    "    tos = cood_map.loc[route].values[1:]\n",
    "    lines = [[f, t] for f, t in zip(froms, tos)]\n",
    "    total_dist = res['cost'][-1]/METRICS_FACTOR\n",
    "    lc = LineCollection(lines, color=cmap(i), label=f'{i}:{total_dist}')\n",
    "    ax.add_collection(lc)\n",
    "ax.legend()\n",
    "\n",
    "fig.tight_layout()"
   ]
  },
  {
   "cell_type": "code",
   "execution_count": null,
   "metadata": {},
   "outputs": [],
   "source": []
  }
 ],
 "metadata": {
  "kernelspec": {
   "display_name": "python3.10",
   "language": "python",
   "name": "python3"
  },
  "language_info": {
   "codemirror_mode": {
    "name": "ipython",
    "version": 3
   },
   "file_extension": ".py",
   "mimetype": "text/x-python",
   "name": "python",
   "nbconvert_exporter": "python",
   "pygments_lexer": "ipython3",
   "version": "3.10.6 (main, Nov 14 2022, 16:10:14) [GCC 11.3.0]"
  },
  "orig_nbformat": 4,
  "vscode": {
   "interpreter": {
    "hash": "b7beb64e9bea1d5a40488a236dc0aaa9bb121551a494734855a4fcb190e13e91"
   }
  }
 },
 "nbformat": 4,
 "nbformat_minor": 2
}
