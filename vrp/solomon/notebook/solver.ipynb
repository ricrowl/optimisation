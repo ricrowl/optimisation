{
 "cells": [
  {
   "attachments": {},
   "cell_type": "markdown",
   "metadata": {},
   "source": [
    "# capacitated vehicle routing problem with time-windows"
   ]
  },
  {
   "cell_type": "code",
   "execution_count": null,
   "metadata": {},
   "outputs": [],
   "source": [
    "import pandas as pd\n",
    "from itertools import permutations\n",
    "from ortools.constraint_solver import pywrapcp\n",
    "from ortools.constraint_solver import routing_enums_pb2\n",
    "import plotly.express as px\n",
    "import plotly.graph_objects as go"
   ]
  },
  {
   "cell_type": "code",
   "execution_count": null,
   "metadata": {},
   "outputs": [],
   "source": [
    "INSTANCE_PATH = '../data/sample.txt'\n",
    "SOLUTION_PATH = '../data/sample_solution.txt'\n",
    "\n",
    "METRICS_FACTOR = 1000"
   ]
  },
  {
   "attachments": {},
   "cell_type": "markdown",
   "metadata": {},
   "source": [
    "## Load DATA"
   ]
  },
  {
   "cell_type": "code",
   "execution_count": null,
   "metadata": {},
   "outputs": [],
   "source": [
    "# Read data from txt\n",
    "\n",
    "# get data area\n",
    "with open(INSTANCE_PATH, 'r') as f:\n",
    "    lines = [l.strip() for l in f.readlines()]\n",
    "instance_name = lines[0]\n",
    "vechicle_row = lines.index('VEHICLE')\n",
    "cust_row = lines.index('CUSTOMER')\n",
    "vechicle_area = range(vechicle_row+1, cust_row-1)\n",
    "cust_area = range(cust_row+2, len(lines))\n",
    "\n",
    "# read data as dataframe\n",
    "vechicle_df = pd.read_csv(\n",
    "    INSTANCE_PATH, \n",
    "    skiprows=lambda x: x not in vechicle_area, \n",
    "    delim_whitespace=True)\n",
    "vechicle_df.columns = ['num', 'capacity']\n",
    "cust_df = pd.read_csv(\n",
    "    INSTANCE_PATH, \n",
    "    skiprows=lambda x: x not in cust_area, \n",
    "    delim_whitespace=True,\n",
    "    header=None)\n",
    "cust_df.columns = ['no', 'x', 'y', 'demand', 'start_time', 'end_time', 'service_time']\n",
    "cust_df = cust_df.sort_values('no')\n",
    "\n",
    "# set data type\n",
    "cust_df['no'] = cust_df['no'].astype('int')\n",
    "cust_df['x'] = cust_df['x'].astype('float')\n",
    "cust_df['y'] = cust_df['y'].astype('float')\n",
    "cust_df['demand'] = cust_df['demand'].astype('int')\n",
    "cust_df['start_time'] = cust_df['start_time'].astype('float')\n",
    "cust_df['end_time'] = cust_df['end_time'].astype('float')\n",
    "cust_df['service_time'] = cust_df['service_time'].astype('float')\n",
    "vechicle_df['num'] = vechicle_df['num'].astype(int)\n",
    "vechicle_df['capacity'] = vechicle_df['capacity'].astype(int)"
   ]
  },
  {
   "cell_type": "code",
   "execution_count": null,
   "metadata": {},
   "outputs": [],
   "source": [
    "# Plot data\n",
    "vechicle_info = 'vechicle num=%d, capacity=%d' \\\n",
    "    % (vechicle_df.loc[0, 'num'], vechicle_df.loc[0, 'capacity'])\n",
    "fig = px.scatter(\n",
    "    cust_df, x='x', y='y', \n",
    "    hover_data=['demand', 'start_time', 'end_time', 'service_time'], \n",
    "    text=cust_df['no'],\n",
    "    title='vechicle num=%d, capacity=%d' \\\n",
    "        % (vechicle_df.loc[0, 'num'], vechicle_df.loc[0, 'capacity']),\n",
    "    width=800, height=800)\n",
    "fig.update_layout(yaxis=dict(scaleanchor='x'))\n",
    "fig.show()"
   ]
  },
  {
   "attachments": {},
   "cell_type": "markdown",
   "metadata": {},
   "source": [
    "## Make Model"
   ]
  },
  {
   "cell_type": "code",
   "execution_count": null,
   "metadata": {},
   "outputs": [],
   "source": [
    "# Make data for model\n",
    "\n",
    "data = {}\n",
    "# distance_matrix\n",
    "dists = pd.DataFrame(list(permutations(cust_df['no'], 2)), columns=['from', 'to'])\n",
    "coord_map = cust_df.set_index('no')[['x', 'y']]\n",
    "dists['diff_x'] = coord_map.loc[dists['from'], 'x'].values - coord_map.loc[dists['to'], 'x'].values\n",
    "dists['diff_y'] = coord_map.loc[dists['from'], 'y'].values - coord_map.loc[dists['to'], 'y'].values\n",
    "dists['distance'] = ((dists['diff_x']**2) + (dists['diff_y']**2))**(1/2)\n",
    "data['distance_matrix'] = dists.pivot_table(index=['from'], columns=['to'], values=['distance'])\n",
    "data['distance_matrix'] = data['distance_matrix'].fillna(0)\n",
    "data['distance_matrix'] = (METRICS_FACTOR*data['distance_matrix']).astype(int)\n",
    "data['distance_matrix'] = data['distance_matrix'].values.tolist()\n",
    "# time_matrix\n",
    "data['time_matrix'] = data['distance_matrix']\n",
    "# time_windows\n",
    "data['time_windows'] = (METRICS_FACTOR*cust_df[['start_time', 'end_time']]).astype(int)\n",
    "data['time_windows'] = data['time_windows'].values.tolist()\n",
    "# demands\n",
    "data['demands'] = cust_df['demand'].values.tolist()\n",
    "# service_time\n",
    "data['service_time'] = (METRICS_FACTOR*cust_df['service_time']).astype(int)\n",
    "data['service_time'] = data['service_time'].values.tolist()\n",
    "# num_vehicles\n",
    "data['num_vehicles'] = vechicle_df.loc[0, 'num']\n",
    "# vehicle_capacities\n",
    "data['vehicle_capacities'] = [vechicle_df.loc[0, 'capacity']]*data['num_vehicles']\n",
    "# depot\n",
    "data['depot'] = 0"
   ]
  },
  {
   "cell_type": "code",
   "execution_count": null,
   "metadata": {},
   "outputs": [],
   "source": [
    "# Set model\n",
    "manager = pywrapcp.RoutingIndexManager(\n",
    "    len(data['distance_matrix']), int(data['num_vehicles']), int(data['depot']))\n",
    "routing = pywrapcp.RoutingModel(manager)"
   ]
  },
  {
   "cell_type": "code",
   "execution_count": null,
   "metadata": {},
   "outputs": [],
   "source": [
    "# Set cost of total distance\n",
    "def distance_callback(from_index, to_index):\n",
    "    \"\"\"Returns the distance between the two nodes.\"\"\"\n",
    "    from_node = manager.IndexToNode(from_index)\n",
    "    to_node = manager.IndexToNode(to_index)\n",
    "    return data['distance_matrix'][from_node][to_node]\n",
    "\n",
    "transit_callback_index = routing.RegisterTransitCallback(distance_callback)\n",
    "routing.SetArcCostEvaluatorOfAllVehicles(transit_callback_index)"
   ]
  },
  {
   "cell_type": "code",
   "execution_count": null,
   "metadata": {},
   "outputs": [],
   "source": [
    "# Set constraint of capacity\n",
    "def demand_callback(from_index):\n",
    "    \"\"\"Returns the demand of the node.\"\"\"\n",
    "    from_node = manager.IndexToNode(from_index)\n",
    "    return data['demands'][from_node]\n",
    "\n",
    "demand_callback_index = routing.RegisterUnaryTransitCallback(\n",
    "    demand_callback)\n",
    "routing.AddDimensionWithVehicleCapacity(\n",
    "    demand_callback_index,\n",
    "    0,  # null capacity slack\n",
    "    data['vehicle_capacities'],  # vehicle maximum capacities\n",
    "    True,  # start cumul to zero\n",
    "    'Capacity')"
   ]
  },
  {
   "cell_type": "code",
   "execution_count": null,
   "metadata": {},
   "outputs": [],
   "source": [
    "# Set constraint of time window\n",
    "def time_callback(from_index, to_index):\n",
    "    \"\"\"Returns the travel time between the two nodes + service time of from_node.\"\"\"\n",
    "    from_node = manager.IndexToNode(from_index)\n",
    "    to_node = manager.IndexToNode(to_index)\n",
    "    return data['time_matrix'][from_node][to_node] + data['service_time'][from_node]\n",
    "\n",
    "dim_name = 'Time'\n",
    "time_callback_index = routing.RegisterTransitCallback(time_callback)\n",
    "routing.AddDimension(\n",
    "    time_callback_index,\n",
    "    max(sum(data['time_windows'], [])),  # allow waiting time\n",
    "    max(sum(data['time_windows'], [])),  # maximum time per vehicle\n",
    "    False,  # Don't force start cumul to zero.\n",
    "    dim_name)\n",
    "time_dimension = routing.GetDimensionOrDie(dim_name)\n",
    "# add time window constraints for each location except depot.\n",
    "for location_idx, time_window in enumerate(data['time_windows']):\n",
    "    if location_idx == data['depot']:\n",
    "        continue\n",
    "    index = manager.NodeToIndex(location_idx)\n",
    "    time_dimension.CumulVar(index).SetRange(time_window[0], time_window[1])\n",
    "# add time window constraints for each vehicle start node.\n",
    "depot_idx = data['depot']\n",
    "for vehicle_id in range(data['num_vehicles']):\n",
    "    index = routing.Start(vehicle_id)\n",
    "    time_dimension.CumulVar(index).SetRange(\n",
    "        data['time_windows'][depot_idx][0],\n",
    "        data['time_windows'][depot_idx][1])\n",
    "for i in range(data['num_vehicles']):\n",
    "    routing.AddVariableMinimizedByFinalizer(\n",
    "        time_dimension.CumulVar(routing.Start(i)))\n",
    "    routing.AddVariableMinimizedByFinalizer(\n",
    "        time_dimension.CumulVar(routing.End(i)))"
   ]
  },
  {
   "cell_type": "markdown",
   "metadata": {},
   "source": [
    "### Main function"
   ]
  },
  {
   "cell_type": "code",
   "execution_count": null,
   "metadata": {},
   "outputs": [],
   "source": [
    "# Setting first solution heuristic.\n",
    "search_parameters = pywrapcp.DefaultRoutingSearchParameters()\n",
    "search_parameters.first_solution_strategy = (\n",
    "    routing_enums_pb2.FirstSolutionStrategy.PATH_CHEAPEST_ARC)\n",
    "search_parameters.local_search_metaheuristic = (\n",
    "    routing_enums_pb2.LocalSearchMetaheuristic.GUIDED_LOCAL_SEARCH)\n",
    "search_parameters.time_limit.seconds = 30"
   ]
  },
  {
   "cell_type": "code",
   "execution_count": null,
   "metadata": {},
   "outputs": [],
   "source": [
    "# Solve the problem.\n",
    "solution = routing.SolveWithParameters(search_parameters)"
   ]
  },
  {
   "cell_type": "code",
   "execution_count": null,
   "metadata": {},
   "outputs": [],
   "source": [
    "# Check whether solver has solution\n",
    "assert solution, 'Solver did not find any solutions.'"
   ]
  },
  {
   "attachments": {},
   "cell_type": "markdown",
   "metadata": {},
   "source": [
    "### Visualization"
   ]
  },
  {
   "cell_type": "code",
   "execution_count": null,
   "metadata": {},
   "outputs": [],
   "source": [
    "# Display the routes.\n",
    "\n",
    "def get_results(solution, routing, manager):\n",
    "    \"\"\"Get vehicle routes from a solution and store them in an array.\"\"\"\n",
    "    results = {}\n",
    "    capa_dim = routing.GetDimensionOrDie('Capacity')\n",
    "    time_dim = routing.GetDimensionOrDie('Time')\n",
    "    for vehicle_id in range(routing.vehicles()):\n",
    "        index = routing.Start(vehicle_id)\n",
    "        result = {\n",
    "            'route': [manager.IndexToNode(index)], \n",
    "            'cost': [routing.GetFixedCostOfVehicle(vehicle_id)],\n",
    "            'capa': [0],                                  \n",
    "            'time': [0]\n",
    "            }\n",
    "        while not routing.IsEnd(index):\n",
    "            pre_index = index\n",
    "            index = solution.Value(routing.NextVar(index))\n",
    "            result['route'].append(manager.IndexToNode(index))\n",
    "            result['cost'].append(\n",
    "                routing.GetArcCostForVehicle(pre_index, index, vehicle_id))\n",
    "            result['capa'].append(\n",
    "                capa_dim.GetTransitValue(pre_index, index, vehicle_id))          \n",
    "            result['time'].append(\n",
    "                time_dim.GetTransitValue(pre_index, index, vehicle_id))\n",
    "        result['cost'] = pd.Series(result['cost']).cumsum().to_list()\n",
    "        result['capa'] = pd.Series(result['capa']).cumsum().to_list()\n",
    "        result['time'] = pd.Series(result['time']).cumsum().to_list()\n",
    "        results[vehicle_id] = result\n",
    "    return results\n",
    "\n",
    "solution_results = get_results(solution, routing, manager)\n",
    "print('Result of Route: No.(cost,capacity,time)')\n",
    "for i, res in solution_results.items():\n",
    "  route = res['route']\n",
    "  costs = res['cost']\n",
    "  capas = res['capa']\n",
    "  times = res['time']\n",
    "  vechicle_capa = vechicle_df.loc[0, 'capacity']\n",
    "  text = [f'{l}({c},{d}/{vechicle_capa},{t})' \n",
    "          for l, c, d, t in zip(route, costs, capas, times)]\n",
    "  text = ' -> '.join(text)\n",
    "  print(f'Vehicle {i}: {text}')\n",
    "print('Objective value:', solution.ObjectiveValue())"
   ]
  },
  {
   "cell_type": "code",
   "execution_count": null,
   "metadata": {},
   "outputs": [],
   "source": [
    "# Make result dataframe\n",
    "resulf_df = []\n",
    "raw_df_map = cust_df.set_index('no')\n",
    "for i, res in solution_results.items():\n",
    "  res = pd.DataFrame.from_dict(res)\n",
    "  if len(res)>2:\n",
    "    res.insert(0, 'vechile', i)\n",
    "    resulf_df.append(res)\n",
    "resulf_df = pd.concat(resulf_df, axis=0)\n",
    "resulf_df = resulf_df.reset_index(drop=True)\n",
    "resulf_df.columns = ['vechicle', 'no', 'distance', 'capacity', 'time']\n",
    "resulf_df[['distance', 'time']] /= METRICS_FACTOR\n",
    "resulf_df = resulf_df.merge(cust_df, on=['no'], how='left')\n",
    "resulf_df"
   ]
  },
  {
   "cell_type": "code",
   "execution_count": null,
   "metadata": {},
   "outputs": [],
   "source": [
    "# Show results\n",
    "print('Total number of vechile:', len(resulf_df['vechicle'].unique()))\n",
    "print('Total distance:', resulf_df.groupby('vechicle').last()['distance'].sum())\n",
    "print()\n",
    "print('Other total metrics of each vechicle:')\n",
    "display(resulf_df.groupby('vechicle').last()[['distance', 'capacity', 'time']])"
   ]
  },
  {
   "cell_type": "code",
   "execution_count": null,
   "metadata": {},
   "outputs": [],
   "source": [
    "# Plot data\n",
    "fig = px.line(\n",
    "    resulf_df, x='x', y='y', \n",
    "    hover_data=resulf_df.columns, \n",
    "    text=resulf_df['no'],\n",
    "    color='vechicle',\n",
    "    width=800, height=800)\n",
    "fig.update_layout(yaxis=dict(scaleanchor='x'))\n",
    "fig.show()"
   ]
  },
  {
   "cell_type": "code",
   "execution_count": null,
   "metadata": {},
   "outputs": [],
   "source": []
  }
 ],
 "metadata": {
  "kernelspec": {
   "display_name": "python3.10",
   "language": "python",
   "name": "python3"
  },
  "language_info": {
   "codemirror_mode": {
    "name": "ipython",
    "version": 3
   },
   "file_extension": ".py",
   "mimetype": "text/x-python",
   "name": "python",
   "nbconvert_exporter": "python",
   "pygments_lexer": "ipython3",
   "version": "3.10.6"
  },
  "orig_nbformat": 4,
  "vscode": {
   "interpreter": {
    "hash": "b7beb64e9bea1d5a40488a236dc0aaa9bb121551a494734855a4fcb190e13e91"
   }
  }
 },
 "nbformat": 4,
 "nbformat_minor": 2
}
